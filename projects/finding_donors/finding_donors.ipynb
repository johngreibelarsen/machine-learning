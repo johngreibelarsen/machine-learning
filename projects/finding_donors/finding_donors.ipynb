{
 "cells": [
  {
   "cell_type": "markdown",
   "metadata": {},
   "source": [
    "# Machine Learning Engineer Nanodegree\n",
    "## Supervised Learning\n",
    "## Project: Finding Donors for *CharityML*"
   ]
  },
  {
   "cell_type": "markdown",
   "metadata": {},
   "source": [
    "Welcome to the second project of the Machine Learning Engineer Nanodegree! In this notebook, some template code has already been provided for you, and it will be your job to implement the additional functionality necessary to successfully complete this project. Sections that begin with **'Implementation'** in the header indicate that the following block of code will require additional functionality which you must provide. Instructions will be provided for each section and the specifics of the implementation are marked in the code block with a `'TODO'` statement. Please be sure to read the instructions carefully!\n",
    "\n",
    "In addition to implementing code, there will be questions that you must answer which relate to the project and your implementation. Each section where you will answer a question is preceded by a **'Question X'** header. Carefully read each question and provide thorough answers in the following text boxes that begin with **'Answer:'**. Your project submission will be evaluated based on your answers to each of the questions and the implementation you provide.  \n",
    "\n",
    ">**Note:** Please specify WHICH VERSION OF PYTHON you are using when submitting this notebook. Code and Markdown cells can be executed using the **Shift + Enter** keyboard shortcut. In addition, Markdown cells can be edited by typically double-clicking the cell to enter edit mode."
   ]
  },
  {
   "cell_type": "markdown",
   "metadata": {},
   "source": [
    "## Getting Started\n",
    "\n",
    "In this project, you will employ several supervised algorithms of your choice to accurately model individuals' income using data collected from the 1994 U.S. Census. You will then choose the best candidate algorithm from preliminary results and further optimize this algorithm to best model the data. Your goal with this implementation is to construct a model that accurately predicts whether an individual makes more than $50,000. This sort of task can arise in a non-profit setting, where organizations survive on donations.  Understanding an individual's income can help a non-profit better understand how large of a donation to request, or whether or not they should reach out to begin with.  While it can be difficult to determine an individual's general income bracket directly from public sources, we can (as we will see) infer this value from other publically available features. \n",
    "\n",
    "The dataset for this project originates from the [UCI Machine Learning Repository](https://archive.ics.uci.edu/ml/datasets/Census+Income). The datset was donated by Ron Kohavi and Barry Becker, after being published in the article _\"Scaling Up the Accuracy of Naive-Bayes Classifiers: A Decision-Tree Hybrid\"_. You can find the article by Ron Kohavi [online](https://www.aaai.org/Papers/KDD/1996/KDD96-033.pdf). The data we investigate here consists of small changes to the original dataset, such as removing the `'fnlwgt'` feature and records with missing or ill-formatted entries."
   ]
  },
  {
   "cell_type": "markdown",
   "metadata": {},
   "source": [
    "----\n",
    "## Exploring the Data\n",
    "Run the code cell below to load necessary Python libraries and load the census data. Note that the last column from this dataset, `'income'`, will be our target label (whether an individual makes more than, or at most, $50,000 annually). All other columns are features about each individual in the census database."
   ]
  },
  {
   "cell_type": "code",
   "execution_count": 2,
   "metadata": {
    "collapsed": false
   },
   "outputs": [
    {
     "data": {
      "text/html": [
       "<div>\n",
       "<table border=\"1\" class=\"dataframe\">\n",
       "  <thead>\n",
       "    <tr style=\"text-align: right;\">\n",
       "      <th></th>\n",
       "      <th>age</th>\n",
       "      <th>workclass</th>\n",
       "      <th>education_level</th>\n",
       "      <th>education-num</th>\n",
       "      <th>marital-status</th>\n",
       "      <th>occupation</th>\n",
       "      <th>relationship</th>\n",
       "      <th>race</th>\n",
       "      <th>sex</th>\n",
       "      <th>capital-gain</th>\n",
       "      <th>capital-loss</th>\n",
       "      <th>hours-per-week</th>\n",
       "      <th>native-country</th>\n",
       "      <th>income</th>\n",
       "    </tr>\n",
       "  </thead>\n",
       "  <tbody>\n",
       "    <tr>\n",
       "      <th>0</th>\n",
       "      <td>39</td>\n",
       "      <td>State-gov</td>\n",
       "      <td>Bachelors</td>\n",
       "      <td>13.0</td>\n",
       "      <td>Never-married</td>\n",
       "      <td>Adm-clerical</td>\n",
       "      <td>Not-in-family</td>\n",
       "      <td>White</td>\n",
       "      <td>Male</td>\n",
       "      <td>2174.0</td>\n",
       "      <td>0.0</td>\n",
       "      <td>40.0</td>\n",
       "      <td>United-States</td>\n",
       "      <td>&lt;=50K</td>\n",
       "    </tr>\n",
       "  </tbody>\n",
       "</table>\n",
       "</div>"
      ],
      "text/plain": [
       "   age   workclass education_level  education-num  marital-status  \\\n",
       "0   39   State-gov       Bachelors           13.0   Never-married   \n",
       "\n",
       "      occupation    relationship    race    sex  capital-gain  capital-loss  \\\n",
       "0   Adm-clerical   Not-in-family   White   Male        2174.0           0.0   \n",
       "\n",
       "   hours-per-week  native-country income  \n",
       "0            40.0   United-States  <=50K  "
      ]
     },
     "metadata": {},
     "output_type": "display_data"
    }
   ],
   "source": [
    "# Import libraries necessary for this project\n",
    "import numpy as np\n",
    "import pandas as pd\n",
    "from time import time\n",
    "from IPython.display import display # Allows the use of display() for DataFrames\n",
    "\n",
    "# Import supplementary visualization code visuals.py\n",
    "import visuals as vs\n",
    "\n",
    "# Pretty display for notebooks\n",
    "%matplotlib inline\n",
    "\n",
    "# Load the Census dataset\n",
    "data = pd.read_csv(\"census.csv\")\n",
    "\n",
    "# Success - Display the first record\n",
    "display(data.head(n = 1))"
   ]
  },
  {
   "cell_type": "markdown",
   "metadata": {},
   "source": [
    "### Implementation: Data Exploration\n",
    "A cursory investigation of the dataset will determine how many individuals fit into either group, and will tell us about the percentage of these individuals making more than \\$50,000. In the code cell below, you will need to compute the following:\n",
    "- The total number of records, `'n_records'`\n",
    "- The number of individuals making more than \\$50,000 annually, `'n_greater_50k'`.\n",
    "- The number of individuals making at most \\$50,000 annually, `'n_at_most_50k'`.\n",
    "- The percentage of individuals making more than \\$50,000 annually, `'greater_percent'`.\n",
    "\n",
    "**Hint:** You may need to look at the table above to understand how the `'income'` entries are formatted. "
   ]
  },
  {
   "cell_type": "code",
   "execution_count": 3,
   "metadata": {
    "collapsed": false
   },
   "outputs": [
    {
     "name": "stdout",
     "output_type": "stream",
     "text": [
      "Total number of records: 45222\n",
      "Individuals making more than $50,000: 11208\n",
      "Individuals making at most $50,000: 34014\n",
      "Percentage of individuals making more than $50,000: 24.78%\n"
     ]
    }
   ],
   "source": [
    "# TODO: Total number of records\n",
    "n_records = data.shape[0]\n",
    "\n",
    "# TODO: Number of records where individual's income is more than $50,000\n",
    "n_greater_50k = data.income.map({'<=50K' : 0, '>50K' : 1}).sum()\n",
    "\n",
    "# TODO: Number of records where individual's income is at most $50,000\n",
    "n_at_most_50k = n_records - n_greater_50k\n",
    "\n",
    "# TODO: Percentage of individuals whose income is more than $50,000\n",
    "greater_percent = 100 * float(n_greater_50k) / n_records\n",
    "\n",
    "# Print the results\n",
    "print \"Total number of records: {}\".format(n_records)\n",
    "print \"Individuals making more than $50,000: {}\".format(n_greater_50k)\n",
    "print \"Individuals making at most $50,000: {}\".format(n_at_most_50k)\n",
    "print \"Percentage of individuals making more than $50,000: {:.2f}%\".format(greater_percent)"
   ]
  },
  {
   "cell_type": "markdown",
   "metadata": {},
   "source": [
    "----\n",
    "## Preparing the Data\n",
    "Before data can be used as input for machine learning algorithms, it often must be cleaned, formatted, and restructured — this is typically known as **preprocessing**. Fortunately, for this dataset, there are no invalid or missing entries we must deal with, however, there are some qualities about certain features that must be adjusted. This preprocessing can help tremendously with the outcome and predictive power of nearly all learning algorithms."
   ]
  },
  {
   "cell_type": "markdown",
   "metadata": {},
   "source": [
    "### Transforming Skewed Continuous Features\n",
    "A dataset may sometimes contain at least one feature whose values tend to lie near a single number, but will also have a non-trivial number of vastly larger or smaller values than that single number.  Algorithms can be sensitive to such distributions of values and can underperform if the range is not properly normalized. With the census dataset two features fit this description: '`capital-gain'` and `'capital-loss'`. \n",
    "\n",
    "Run the code cell below to plot a histogram of these two features. Note the range of the values present and how they are distributed."
   ]
  },
  {
   "cell_type": "code",
   "execution_count": 4,
   "metadata": {
    "collapsed": false
   },
   "outputs": [
    {
     "data": {
      "image/png": "[encoded data removed]",
      "text/plain": [
       "<matplotlib.figure.Figure at 0x8b43f28>"
      ]
     },
     "metadata": {},
     "output_type": "display_data"
    }
   ],
   "source": [
    "# Split the data into features and target label\n",
    "income_raw = data['income']\n",
    "features_raw = data.drop('income', axis = 1)\n",
    "\n",
    "# Visualize skewed continuous features of original data\n",
    "vs.distribution(data)"
   ]
  },
  {
   "cell_type": "markdown",
   "metadata": {},
   "source": [
    "For highly-skewed feature distributions such as `'capital-gain'` and `'capital-loss'`, it is common practice to apply a <a href=\"https://en.wikipedia.org/wiki/Data_transformation_(statistics)\">logarithmic transformation</a> on the data so that the very large and very small values do not negatively affect the performance of a learning algorithm. Using a logarithmic transformation significantly reduces the range of values caused by outliers. Care must be taken when applying this transformation however: The logarithm of `0` is undefined, so we must translate the values by a small amount above `0` to apply the the logarithm successfully.\n",
    "\n",
    "Run the code cell below to perform a transformation on the data and visualize the results. Again, note the range of values and how they are distributed. "
   ]
  },
  {
   "cell_type": "code",
   "execution_count": 5,
   "metadata": {
    "collapsed": false
   },
   "outputs": [
    {
     "data": {
      "image/png": "[encoded data removed]",
      "text/plain": [
       "<matplotlib.figure.Figure at 0xcd34908>"
      ]
     },
     "metadata": {},
     "output_type": "display_data"
    }
   ],
   "source": [
    "# Log-transform the skewed features\n",
    "skewed = ['capital-gain', 'capital-loss']\n",
    "features_raw[skewed] = data[skewed].apply(lambda x: np.log(x + 1))\n",
    "\n",
    "# Visualize the new log distributions\n",
    "vs.distribution(features_raw, transformed = True)"
   ]
  },
  {
   "cell_type": "markdown",
   "metadata": {},
   "source": [
    "### Normalizing Numerical Features\n",
    "In addition to performing transformations on features that are highly skewed, it is often good practice to perform some type of scaling on numerical features. Applying a scaling to the data does not change the shape of each feature's distribution (such as `'capital-gain'` or `'capital-loss'` above); however, normalization ensures that each feature is treated equally when applying supervised learners. Note that once scaling is applied, observing the data in its raw form will no longer have the same original meaning, as exampled below.\n",
    "\n",
    "Run the code cell below to normalize each numerical feature. We will use [`sklearn.preprocessing.MinMaxScaler`](http://scikit-learn.org/stable/modules/generated/sklearn.preprocessing.MinMaxScaler.html) for this."
   ]
  },
  {
   "cell_type": "code",
   "execution_count": 6,
   "metadata": {
    "collapsed": false
   },
   "outputs": [
    {
     "data": {
      "text/html": [
       "<div>\n",
       "<table border=\"1\" class=\"dataframe\">\n",
       "  <thead>\n",
       "    <tr style=\"text-align: right;\">\n",
       "      <th></th>\n",
       "      <th>age</th>\n",
       "      <th>workclass</th>\n",
       "      <th>education_level</th>\n",
       "      <th>education-num</th>\n",
       "      <th>marital-status</th>\n",
       "      <th>occupation</th>\n",
       "      <th>relationship</th>\n",
       "      <th>race</th>\n",
       "      <th>sex</th>\n",
       "      <th>capital-gain</th>\n",
       "      <th>capital-loss</th>\n",
       "      <th>hours-per-week</th>\n",
       "      <th>native-country</th>\n",
       "    </tr>\n",
       "  </thead>\n",
       "  <tbody>\n",
       "    <tr>\n",
       "      <th>0</th>\n",
       "      <td>0.30137</td>\n",
       "      <td>State-gov</td>\n",
       "      <td>Bachelors</td>\n",
       "      <td>0.8</td>\n",
       "      <td>Never-married</td>\n",
       "      <td>Adm-clerical</td>\n",
       "      <td>Not-in-family</td>\n",
       "      <td>White</td>\n",
       "      <td>Male</td>\n",
       "      <td>0.02174</td>\n",
       "      <td>0.0</td>\n",
       "      <td>0.397959</td>\n",
       "      <td>United-States</td>\n",
       "    </tr>\n",
       "  </tbody>\n",
       "</table>\n",
       "</div>"
      ],
      "text/plain": [
       "       age   workclass education_level  education-num  marital-status  \\\n",
       "0  0.30137   State-gov       Bachelors            0.8   Never-married   \n",
       "\n",
       "      occupation    relationship    race    sex  capital-gain  capital-loss  \\\n",
       "0   Adm-clerical   Not-in-family   White   Male       0.02174           0.0   \n",
       "\n",
       "   hours-per-week  native-country  \n",
       "0        0.397959   United-States  "
      ]
     },
     "metadata": {},
     "output_type": "display_data"
    }
   ],
   "source": [
    "# Import sklearn.preprocessing.StandardScaler\n",
    "from sklearn.preprocessing import MinMaxScaler\n",
    "\n",
    "# Initialize a scaler, then apply it to the features\n",
    "scaler = MinMaxScaler()\n",
    "numerical = ['age', 'education-num', 'capital-gain', 'capital-loss', 'hours-per-week']\n",
    "features_raw[numerical] = scaler.fit_transform(data[numerical])\n",
    "\n",
    "# Show an example of a record with scaling applied\n",
    "display(features_raw.head(n = 1))"
   ]
  },
  {
   "cell_type": "markdown",
   "metadata": {},
   "source": [
    "### Implementation: Data Preprocessing\n",
    "\n",
    "From the table in **Exploring the Data** above, we can see there are several features for each record that are non-numeric. Typically, learning algorithms expect input to be numeric, which requires that non-numeric features (called *categorical variables*) be converted. One popular way to convert categorical variables is by using the **one-hot encoding** scheme. One-hot encoding creates a _\"dummy\"_ variable for each possible category of each non-numeric feature. For example, assume `someFeature` has three possible entries: `A`, `B`, or `C`. We then encode this feature into `someFeature_A`, `someFeature_B` and `someFeature_C`.\n",
    "\n",
    "|   | someFeature |                    | someFeature_A | someFeature_B | someFeature_C |\n",
    "| :-: | :-: |                            | :-: | :-: | :-: |\n",
    "| 0 |  B  |  | 0 | 1 | 0 |\n",
    "| 1 |  C  | ----> one-hot encode ----> | 0 | 0 | 1 |\n",
    "| 2 |  A  |  | 1 | 0 | 0 |\n",
    "\n",
    "Additionally, as with the non-numeric features, we need to convert the non-numeric target label, `'income'` to numerical values for the learning algorithm to work. Since there are only two possible categories for this label (\"<=50K\" and \">50K\"), we can avoid using one-hot encoding and simply encode these two categories as `0` and `1`, respectively. In code cell below, you will need to implement the following:\n",
    " - Use [`pandas.get_dummies()`](http://pandas.pydata.org/pandas-docs/stable/generated/pandas.get_dummies.html?highlight=get_dummies#pandas.get_dummies) to perform one-hot encoding on the `'features_raw'` data.\n",
    " - Convert the target label `'income_raw'` to numerical entries.\n",
    "   - Set records with \"<=50K\" to `0` and records with \">50K\" to `1`."
   ]
  },
  {
   "cell_type": "code",
   "execution_count": 7,
   "metadata": {
    "collapsed": false,
    "scrolled": true
   },
   "outputs": [
    {
     "name": "stdout",
     "output_type": "stream",
     "text": [
      "103 total features after one-hot encoding.\n"
     ]
    }
   ],
   "source": [
    "# TODO: One-hot encode the 'features_raw' data using pandas.get_dummies()\n",
    "features = pd.get_dummies(features_raw)\n",
    "\n",
    "# TODO: Encode the 'income_raw' data to numerical values\n",
    "income = income_raw.map({'<=50K' : 0, '>50K' : 1})\n",
    "\n",
    "# Print the number of features after one-hot encoding\n",
    "encoded = list(features.columns)\n",
    "print \"{} total features after one-hot encoding.\".format(len(encoded))\n",
    "\n",
    "# Uncomment the following line to see the encoded feature names\n",
    "#print encoded"
   ]
  },
  {
   "cell_type": "markdown",
   "metadata": {},
   "source": [
    "### Shuffle and Split Data\n",
    "Now all _categorical variables_ have been converted into numerical features, and all numerical features have been normalized. As always, we will now split the data (both features and their labels) into training and test sets. 80% of the data will be used for training and 20% for testing.\n",
    "\n",
    "Run the code cell below to perform this split."
   ]
  },
  {
   "cell_type": "code",
   "execution_count": 8,
   "metadata": {
    "collapsed": false
   },
   "outputs": [
    {
     "name": "stdout",
     "output_type": "stream",
     "text": [
      "Training set has 36177 samples.\n",
      "Testing set has 9045 samples.\n"
     ]
    }
   ],
   "source": [
    "# Import train_test_split\n",
    "from sklearn.cross_validation import train_test_split\n",
    "\n",
    "# Split the 'features' and 'income' data into training and testing sets\n",
    "X_train, X_test, y_train, y_test = train_test_split(features, income, test_size = 0.2, random_state = 0)\n",
    "\n",
    "# Show the results of the split\n",
    "print \"Training set has {} samples.\".format(X_train.shape[0])\n",
    "print \"Testing set has {} samples.\".format(X_test.shape[0])"
   ]
  },
  {
   "cell_type": "markdown",
   "metadata": {},
   "source": [
    "----\n",
    "## Evaluating Model Performance\n",
    "In this section, we will investigate four different algorithms, and determine which is best at modeling the data. Three of these algorithms will be supervised learners of your choice, and the fourth algorithm is known as a *naive predictor*."
   ]
  },
  {
   "cell_type": "markdown",
   "metadata": {},
   "source": [
    "### Metrics and the Naive Predictor\n",
    "*CharityML*, equipped with their research, knows individuals that make more than \\$50,000 are most likely to donate to their charity. Because of this, *CharityML* is particularly interested in predicting who makes more than \\$50,000 accurately. It would seem that using **accuracy** as a metric for evaluating a particular model's performace would be appropriate. Additionally, identifying someone that *does not* make more than \\$50,000 as someone who does would be detrimental to *CharityML*, since they are looking to find individuals willing to donate. Therefore, a model's ability to precisely predict those that make more than \\$50,000 is *more important* than the model's ability to **recall** those individuals. We can use **F-beta score** as a metric that considers both precision and recall:\n",
    "\n",
    "$$ F_{\\beta} = (1 + \\beta^2) \\cdot \\frac{precision \\cdot recall}{\\left( \\beta^2 \\cdot precision \\right) + recall} $$\n",
    "\n",
    "In particular, when $\\beta = 0.5$, more emphasis is placed on precision. This is called the **F$_{0.5}$ score** (or F-score for simplicity).\n",
    "\n",
    "Looking at the distribution of classes (those who make at most \\$50,000, and those who make more), it's clear most individuals do not make more than \\$50,000. This can greatly affect **accuracy**, since we could simply say *\"this person does not make more than \\$50,000\"* and generally be right, without ever looking at the data! Making such a statement would be called **naive**, since we have not considered any information to substantiate the claim. It is always important to consider the *naive prediction* for your data, to help establish a benchmark for whether a model is performing well. That been said, using that prediction would be pointless: If we predicted all people made less than \\$50,000, *CharityML* would identify no one as donors. "
   ]
  },
  {
   "cell_type": "markdown",
   "metadata": {},
   "source": [
    "### Question 1 - Naive Predictor Performace\n",
    "*If we chose a model that always predicted an individual made more than \\$50,000, what would that model's accuracy and F-score be on this dataset?*  \n",
    "**Note:** You must use the code cell below and assign your results to `'accuracy'` and `'fscore'` to be used later."
   ]
  },
  {
   "cell_type": "code",
   "execution_count": 9,
   "metadata": {
    "collapsed": false
   },
   "outputs": [
    {
     "name": "stdout",
     "output_type": "stream",
     "text": [
      "Naive Predictor: [Accuracy score: 0.2478, F-score: 0.2917]\n"
     ]
    }
   ],
   "source": [
    "TP = n_greater_50k # actual class is yes and the value of predicted class is also yes\n",
    "FP = n_at_most_50k # actual class is no and predicted class is yes\n",
    "FN = 0 # actual class is yes but predicted class in no\n",
    "TN = 0 # actual class is no and value of predicted class is also no\n",
    "\n",
    "# Accuracy = TP+TN/TP+FP+FN+TN\n",
    "accuracy = float(TP + TN) / (TP + FP + FN + TN)\n",
    "\n",
    "# Precision = TP/TP+FP\n",
    "precision = float(TP)/(TP + FP)\n",
    "\n",
    "# Recall = TP/TP+FN\n",
    "recall = float(TP)/(TP + FN)\n",
    "\n",
    "# TODO: Calculate F-score using the formula above for beta = 0.5\n",
    "beta_squared = (0.5 * 0.5)\n",
    "fscore = (1 + beta_squared) * precision * recall / (beta_squared * precision + recall)\n",
    "\n",
    "# Print the results \n",
    "print \"Naive Predictor: [Accuracy score: {:.4f}, F-score: {:.4f}]\".format(accuracy, fscore)"
   ]
  },
  {
   "cell_type": "markdown",
   "metadata": {},
   "source": [
    "###  Supervised Learning Models\n",
    "**The following supervised learning models are currently available in** [`scikit-learn`](http://scikit-learn.org/stable/supervised_learning.html) **that you may choose from:**\n",
    "- Gaussian Naive Bayes (GaussianNB)\n",
    "- Decision Trees\n",
    "- Ensemble Methods (Bagging, AdaBoost, Random Forest, Gradient Boosting)\n",
    "- K-Nearest Neighbors (KNeighbors)\n",
    "- Stochastic Gradient Descent Classifier (SGDC)\n",
    "- Support Vector Machines (SVM)\n",
    "- Logistic Regression"
   ]
  },
  {
   "cell_type": "markdown",
   "metadata": {},
   "source": [
    "### Question 2 - Model Application\n",
    "List three of the supervised learning models above that are appropriate for this problem that you will test on the census data. For each model chosen\n",
    "- *Describe one real-world application in industry where the model can be applied.* (You may need to do research for this — give references!)\n",
    "- *What are the strengths of the model; when does it perform well?*\n",
    "- *What are the weaknesses of the model; when does it perform poorly?*\n",
    "- *What makes this model a good candidate for the problem, given what you know about the data?*"
   ]
  },
  {
   "cell_type": "markdown",
   "metadata": {},
   "source": [
    "**Answer: **\n",
    "\n",
    "**The three models that I have chosen are all suitable for a two-class classification problem:**\n",
    "\n",
    "1.Ensemble Model - Random Forests <br>\n",
    "2.Support Vector Machines - SVC <br>\n",
    "3.Instance Based - KNeighbors <br>\n",
    "\n",
    "\n",
    "**Describe one real-world application in industry where the model can be applied:**\n",
    "\n",
    "Regarding Ensemble model - Random Forests: <BR>\n",
    "From Birdradar Solution we find radar systems based on X-band radar that can detect even small targets such as small passerines, small bats or even insects. A BirdScan radar can easily record hundreds of thousands of echos per month and this obviously calls for the automated classification into meaningful groups, that is, automatic identification of bird targets with radar via patterns produced by wing flapping. Random Forests and Support Vector Machines are the two ML methods used by them. See more here https://swiss-birdradar.com/overview.html\n",
    "\n",
    "Support Vector Machines - SVC <BR> \n",
    "From aBiocircuits Institute, University of California San Diego we find a exploration into whether there are features in accounting data and in historical price information that can help to predict stock price changes of companies. It turns out that a profitable trading strategy emerges based on training a SVM model to identify stocks with high or low predicted returns. See more here: http://biocircuits.ucsd.edu/huerta/AF_Huerta.pdf\n",
    "\n",
    "Instance Based - KNeighbors: <BR>\n",
    "Herta Security uses deep learning algorithms to generate feature vectors representing people’s faces. They then use K-NN to identify a person by compare the face to their watch list. The reason? K-NN is good enough and it’d be impractical to train a separate classifier for each person on the watch list. See more here http://www.hertasecurity.com/en/\n",
    "\n",
    "**What are the strengths of the model; when does it perform well?**\n",
    "\n",
    "<table style=\"width:100%\">\n",
    "  <tr>\n",
    "    <th>Model</th>\n",
    "    <th>Strengths</th> \n",
    "  </tr>\n",
    "  <tr>\n",
    "    <td width=\"30%\">Regarding Ensemble model - Random Forests</td>\n",
    "    <td> \n",
    "        <ul>\n",
    "          <li>Almost work \"out of the box\"</li>\n",
    "          <li>Represent non-linear decision boundaries. Does not expect linear features or even features that interact linearly</li>\n",
    "          <li>Very efficient in computation and memory usage during both training and prediction</li>\n",
    "          <li>Resilient in the presence of noisy features</li>\n",
    "          <li>Non-parametric model, meaning it support data with varied distributions</li>\n",
    "          <li>Considered one of the most accurate learning algorithms available. For many data sets, it produces a highly accurate classifier. </li>\n",
    "          <li>Can be used for both classification and regression</li>\n",
    "          <li>Less overfitting due to averaging of trees (trees themselves have a tendency for overfitting)</li>\n",
    "        </ul>  \n",
    "    </td> \n",
    "  </tr>\n",
    "  <tr>\n",
    "    <td>Support Vector Machines - SVC</td>\n",
    "    <td>\n",
    "        <ul>\n",
    "          <li>Training is relatively easy</li>\n",
    "          <li>Intuitive: The max-margin idea is among the most intuitive to understand</li>\n",
    "          <li>Deal with outliers elegantly: The soft-margin variant of SVM allows tuning how much outliers affect the decision boundary</li>\n",
    "          <li>Produce very accurate classifiers</li>\n",
    "          <li>Robust, even works when training examples contain errors</li>\n",
    "          <li>Can be used for both classification and regression</li>\n",
    "          <li>Less overfitting, robust to noise</li>\n",
    "        </ul>  \n",
    "    </td> \n",
    "  </tr>\n",
    "  <tr>\n",
    "    <td>Instance Based - KNeighbors</td>\n",
    "    <td>\n",
    "        <ul>\n",
    "          <li>The cost of the learning process is almost zero, very fast as no training involved (“lazy”). New training examples can be added easily</li>\n",
    "          <li>Simple, powerful and easy to learn. No need for tuning complex parameters to build a model</li>\n",
    "          <li>Very flexible decision boundaries</li>\n",
    "          <li>Robust to noisy training data</li>\n",
    "          <li>Non-parametric model, meaning it support data with varied distributions</li>\n",
    "          <li>Can be used for both classification and regression</li>\n",
    "          <li>Effective even if training data is large</li>\n",
    "        </ul>  \n",
    "    </td> \n",
    "  </tr>\n",
    "</table>\n",
    "\n",
    "\n",
    "**What are the weaknesses of the model; when does it perform poorly?**\n",
    "\n",
    "<table style=\"width:100%\">\n",
    "  <tr>\n",
    "    <th>Model</th>\n",
    "    <th>Weaknesses</th> \n",
    "  </tr>\n",
    "  <tr>\n",
    "    <td width=\"30%\">Regarding Ensemble model - Random Forests</td>\n",
    "    <td> \n",
    "        <ul>\n",
    "          <li>Have been observed to overfit for some data sets containing noisy classification/regression tasks (but generally not a problem)</li>\n",
    "          <li>Model size may be a potential drawback. Can end up with a forest that takes hundreds of megabytes of memory and is slow to evaluate</li>\n",
    "          <li>Don’t do well when extrapolation outside of the range of the dependent (or independent) variables are required</li>\n",
    "          <li>Results of learning may be hard to comprehend. Compared to a single decision tree, or to a set of rules, they may not give a lot of insight - less actionable</li>\n",
    "        </ul>  \n",
    "    </td> \n",
    "  <tr>\n",
    "    <td>Support Vector Machines - SVC</td>\n",
    "    <td> \n",
    "        <ul>\n",
    "          <li>Need a “good” kernel function</li>\n",
    "          <li>Limitation in both speed and size and in both training and testing. Especially learning can take a long time (QP optimization)</li>\n",
    "          <li>Difficult to understand the learned function</li>\n",
    "          <li>Not easy to incorporate domain knowledge</li>\n",
    "        </ul>  \n",
    "    </td> \n",
    "  </tr>\n",
    "  <tr>\n",
    "    <td>Instance Based - KNeighbors</td>\n",
    "    <td> \n",
    "        <ul>\n",
    "          <li>Need to determine value of K. Distance function must be carefully chosen</li>\n",
    "          <li>It is computationally expensive to find the k nearest neighbours when the dataset is very large. The algorithm must compute the distance and sort all the training data at each prediction. O(mxd), m= # examples, d= # dimensions (curse of dimensionality)</li>\n",
    "          <li>Irrelevant or correlated features must be eliminated </li>\n",
    "          <li>The model can not be interpreted (there is no description of the learned concepts)</li>\n",
    "          <li>Lazy learner: algorithm does not learn anything from the training data, which can result in the algorithm not generalizing well and being slow</li>\n",
    "        </ul>  \n",
    "    </td> \n",
    "  </tr>\n",
    "</table>\n",
    "\n",
    "**What makes this model a good candidate for the problem, given what you know about the data?**\n",
    "\n",
    "<table style=\"width:100%\">\n",
    "  <tr>\n",
    "    <th>Model</th>\n",
    "    <th>Good Candidate Reasons</th> \n",
    "  </tr>\n",
    "  <tr>\n",
    "    <td width=\"30%\">Regarding Ensemble model - Random Forests</td>\n",
    "    <td> \n",
    "        <ul>\n",
    "          <li>Almost work \"out of the box\"</li>\n",
    "          <li>Very efficient in computation and memory usage during both training and prediction - fast even with a 50K x 100 matrix</li>\n",
    "          <li>Produces a highly accurate classifier. </li>\n",
    "          <li>Well suited for a two-class classification</li>\n",
    "          <li>Less overfitting due to averaging of trees (trees themselves have a tendency for overfitting)</li>        \n",
    "        </ul>  \n",
    "    </td> \n",
    "  </tr>\n",
    "  <tr>\n",
    "    <td>Support Vector Machines - SVC</td>\n",
    "    <td> \n",
    "        <ul>\n",
    "          <li>Training is easy (may be slowish for the bigger datasets)</li>\n",
    "          <li>Produce a very accurate classifiers</li>\n",
    "          <li>Robust, even works when training examples contain errors</li>\n",
    "          <li>Well suited for a two-class classification</li>\n",
    "          <li>Less overfitting, robust to noise</li>        </ul>  \n",
    "    </td> \n",
    "  </tr>\n",
    "  <tr>\n",
    "    <td>Instance Based - KNeighbors</td>\n",
    "    <td> \n",
    "        <ul>\n",
    "          <li>The cost of the learning process is almost zero, very fast as no training involved (“lazy”)</li>\n",
    "          <li>Simple, powerful and easy to learn. No need for tuning complex parameters to build a model</li>\n",
    "          <li>Robust to noisy training data</li>\n",
    "          <li>Well suited for a two-class classification</li>\n",
    "          <li>Effective even if training data is large (testing/predictions will be slowish for the bigger datasets)</li>\n",
    "        </ul> \n",
    "    </td> \n",
    "  </tr>\n",
    "</table>        "
   ]
  },
  {
   "cell_type": "markdown",
   "metadata": {},
   "source": [
    "### Implementation - Creating a Training and Predicting Pipeline\n",
    "To properly evaluate the performance of each model you've chosen, it's important that you create a training and predicting pipeline that allows you to quickly and effectively train models using various sizes of training data and perform predictions on the testing data. Your implementation here will be used in the following section.\n",
    "In the code block below, you will need to implement the following:\n",
    " - Import `fbeta_score` and `accuracy_score` from [`sklearn.metrics`](http://scikit-learn.org/stable/modules/classes.html#sklearn-metrics-metrics).\n",
    " - Fit the learner to the sampled training data and record the training time.\n",
    " - Perform predictions on the test data `X_test`, and also on the first 300 training points `X_train[:300]`.\n",
    "   - Record the total prediction time.\n",
    " - Calculate the accuracy score for both the training subset and testing set.\n",
    " - Calculate the F-score for both the training subset and testing set.\n",
    "   - Make sure that you set the `beta` parameter!"
   ]
  },
  {
   "cell_type": "code",
   "execution_count": 10,
   "metadata": {
    "collapsed": false
   },
   "outputs": [],
   "source": [
    "# TODO: Import two metrics from sklearn - fbeta_score and accuracy_score\n",
    "from sklearn.metrics import accuracy_score\n",
    "from sklearn.metrics import fbeta_score\n",
    "\n",
    "def train_predict(learner, sample_size, X_train, y_train, X_test, y_test): \n",
    "    '''\n",
    "    inputs:\n",
    "       - learner: the learning algorithm to be trained and predicted on\n",
    "       - sample_size: the size of samples (number) to be drawn from training set\n",
    "       - X_train: features training set\n",
    "       - y_train: income training set\n",
    "       - X_test: features testing set\n",
    "       - y_test: income testing set\n",
    "    '''\n",
    "    \n",
    "    results = {}\n",
    "    \n",
    "    # TODO: Fit the learner to the training data using slicing with 'sample_size'\n",
    "    start = time() # Get start time\n",
    "    learner = learner.fit(X_train[:sample_size], y_train[:sample_size])\n",
    "    end = time() # Get end time\n",
    "    \n",
    "    # TODO: Calculate the training time\n",
    "    results['train_time'] = end - start\n",
    "        \n",
    "    # TODO: Get the predictions on the test set,\n",
    "    #       then get predictions on the first 300 training samples\n",
    "    start = time() # Get start time\n",
    "    predictions_test = learner.predict(X_test)\n",
    "    predictions_train = learner.predict(X_train[:300])\n",
    "    end = time() # Get end time\n",
    "    \n",
    "    # TODO: Calculate the total prediction time\n",
    "    results['pred_time'] = end - start\n",
    "            \n",
    "    # TODO: Compute accuracy on the first 300 training samples\n",
    "    results['acc_train'] = accuracy_score(y_train[:300], predictions_train)\n",
    "        \n",
    "    # TODO: Compute accuracy on test set\n",
    "    results['acc_test'] = accuracy_score(y_test, predictions_test)\n",
    "    \n",
    "    # TODO: Compute F-score on the the first 300 training samples\n",
    "    results['f_train'] = fbeta_score(y_train[:300], predictions_train, 0.5)\n",
    "        \n",
    "    # TODO: Compute F-score on the test set\n",
    "    results['f_test'] = fbeta_score(y_test, predictions_test, 0.5)\n",
    "    \n",
    "    # Success\n",
    "    print \"{} trained on {} samples.\".format(learner.__class__.__name__, sample_size)\n",
    "        \n",
    "    # Return the results\n",
    "    return results"
   ]
  },
  {
   "cell_type": "markdown",
   "metadata": {},
   "source": [
    "### Implementation: Initial Model Evaluation\n",
    "In the code cell, you will need to implement the following:\n",
    "- Import the three supervised learning models you've discussed in the previous section.\n",
    "- Initialize the three models and store them in `'clf_A'`, `'clf_B'`, and `'clf_C'`.\n",
    "  - Use a `'random_state'` for each model you use, if provided.\n",
    "  - **Note:** Use the default settings for each model — you will tune one specific model in a later section.\n",
    "- Calculate the number of records equal to 1%, 10%, and 100% of the training data.\n",
    "  - Store those values in `'samples_1'`, `'samples_10'`, and `'samples_100'` respectively.\n",
    "\n",
    "**Note:** Depending on which algorithms you chose, the following implementation may take some time to run!"
   ]
  },
  {
   "cell_type": "code",
   "execution_count": 11,
   "metadata": {
    "collapsed": false
   },
   "outputs": [
    {
     "name": "stdout",
     "output_type": "stream",
     "text": [
      "RandomForestClassifier trained on 362 samples.\n",
      "RandomForestClassifier trained on 3618 samples.\n",
      "RandomForestClassifier trained on 36177 samples.\n"
     ]
    },
    {
     "name": "stderr",
     "output_type": "stream",
     "text": [
      "E:\\Anaconda\\2_7\\lib\\site-packages\\sklearn\\metrics\\classification.py:1074: UndefinedMetricWarning: F-score is ill-defined and being set to 0.0 due to no predicted samples.\n",
      "  'precision', 'predicted', average, warn_for)\n"
     ]
    },
    {
     "name": "stdout",
     "output_type": "stream",
     "text": [
      "SVC trained on 362 samples.\n",
      "SVC trained on 3618 samples.\n",
      "SVC trained on 36177 samples.\n",
      "KNeighborsClassifier trained on 362 samples.\n",
      "KNeighborsClassifier trained on 3618 samples.\n",
      "KNeighborsClassifier trained on 36177 samples.\n"
     ]
    },
    {
     "data": {
      "image/png": "[encoded data removed]",
      "text/plain": [
       "<matplotlib.figure.Figure at 0xd2a6550>"
      ]
     },
     "metadata": {},
     "output_type": "display_data"
    }
   ],
   "source": [
    "# TODO: Import the three supervised learning models from sklearn\n",
    "from sklearn.ensemble import RandomForestClassifier\n",
    "from sklearn.svm import SVC\n",
    "from sklearn.neighbors import KNeighborsClassifier\n",
    "\n",
    "# TODO: Initialize the three models\n",
    "clf_A = RandomForestClassifier(random_state = 1)\n",
    "clf_B = SVC(random_state = 1)\n",
    "clf_C = KNeighborsClassifier()\n",
    "    \n",
    "# TODO: Calculate the number of samples for 1%, 10%, and 100% of the training data\n",
    "samples_1 = int(round(X_train.shape[0]*0.01))\n",
    "samples_10 = int(round(X_train.shape[0]*0.1))\n",
    "samples_100 = X_train.shape[0]\n",
    "    \n",
    "# Collect results on the learners\n",
    "results = {}\n",
    "for clf in [clf_A, clf_B, clf_C]:\n",
    "    clf_name = clf.__class__.__name__\n",
    "    results[clf_name] = {}\n",
    "    for i, samples in enumerate([samples_1, samples_10, samples_100]):\n",
    "        results[clf_name][i] = \\\n",
    "        train_predict(clf, samples, X_train, y_train, X_test, y_test)\n",
    "\n",
    "# Run metrics visualization for the three supervised learning models chosen\n",
    "vs.evaluate(results, accuracy, fscore)"
   ]
  },
  {
   "cell_type": "markdown",
   "metadata": {},
   "source": [
    "----\n",
    "## Improving Results\n",
    "In this final section, you will choose from the three supervised learning models the *best* model to use on the student data. You will then perform a grid search optimization for the model over the entire training set (`X_train` and `y_train`) by tuning at least one parameter to improve upon the untuned model's F-score. "
   ]
  },
  {
   "cell_type": "markdown",
   "metadata": {},
   "source": [
    "### Question 3 - Choosing the Best Model\n",
    "*Based on the evaluation you performed earlier, in one to two paragraphs, explain to *CharityML* which of the three models you believe to be most appropriate for the task of identifying individuals that make more than \\$50,000.*  \n",
    "**Hint:** Your answer should include discussion of the metrics, prediction/training time, and the algorithm's suitability for the data."
   ]
  },
  {
   "cell_type": "markdown",
   "metadata": {},
   "source": [
    "**Answer: ** <BR>\n",
    "After careful evaluation of the models in terms of both performance metrics and general advantages / disadvantages I have chosen **Random Forests** as the best model to move forward with due to it having the highest accuracy on test (0.84) of the 3 models, it has the highest F-score indicating the best precision of the 3 models, it has minimal training time compared to the other 2 models especially for bigger data sets (SVC by far worst), it it absolutely superior in terms of minimal prediction time when compared two the other two models (K-NN by far worst). \n",
    "\n",
    "Comparing above findings with our expectations from Question 2 this is aligned with our expectations and as there are no further arguments that really favor the other models - Random Forest are the obvious choice\n",
    "(In reality we should properly investigate the SVM kernels a bit closer before dismissing this model despite longer training / prediction times - a linear kernel actually beats Random Forest - but that is not the default kernel)"
   ]
  },
  {
   "cell_type": "markdown",
   "metadata": {},
   "source": [
    "### Question 4 - Describing the Model in Layman's Terms\n",
    "*In one to two paragraphs, explain to *CharityML*, in layman's terms, how the final model chosen is supposed to work. Be sure that you are describing the major qualities of the model, such as how the model is trained and how the model makes a prediction. Avoid using advanced mathematical or technical jargon, such as describing equations or discussing the algorithm implementation.*"
   ]
  },
  {
   "cell_type": "markdown",
   "metadata": {},
   "source": [
    "**Answer: ** <BR>\n",
    "Random forests are a way of averaging multiple decision trees (hence a forest). Now what is a decision tree? A decision tree is a natural occuring result of answering a number of yes/no question - it results in a tree structure - think of the game of Twenty Questions and how you would visualise that. At each step along the way, there is an condition (yes/no question), and you continue down either the yes or no branch. Keep doing this until you run out of questions, now the outcome of you last question holds your answer. So, in other words, at each point, we consider a set of questions that can partition our data set.  We choose the question that provides the best split and again find the best questions for the partitions. We stop once all the points we are considering are of the same class.\n",
    "\n",
    "Back to the Random forests model, as stated we average multiple decision trees, trained on different, random, parts of the same training set, with the goal of overcoming the over-fitting problem of an individual decision tree.\n",
    "\n",
    "The key is randomness, that is, we train the decision trees on random subsets sampled from the original data set and we split the decision tree randomly by picking by chance a feature from the sample. The randomness here is to average noisy and unbiased models in order to create a low variance version.\n",
    "\n",
    "Finally we combine the trees through a voting, that is, the forest chooses the classification having the most votes over all the trees in the forest."
   ]
  },
  {
   "cell_type": "markdown",
   "metadata": {},
   "source": [
    "### Implementation: Model Tuning\n",
    "Fine tune the chosen model. Use grid search (`GridSearchCV`) with at least one important parameter tuned with at least 3 different values. You will need to use the entire training set for this. In the code cell below, you will need to implement the following:\n",
    "- Import [`sklearn.grid_search.GridSearchCV`](http://scikit-learn.org/0.17/modules/generated/sklearn.grid_search.GridSearchCV.html) and [`sklearn.metrics.make_scorer`](http://scikit-learn.org/stable/modules/generated/sklearn.metrics.make_scorer.html).\n",
    "- Initialize the classifier you've chosen and store it in `clf`.\n",
    " - Set a `random_state` if one is available to the same state you set before.\n",
    "- Create a dictionary of parameters you wish to tune for the chosen model.\n",
    " - Example: `parameters = {'parameter' : [list of values]}`.\n",
    " - **Note:** Avoid tuning the `max_features` parameter of your learner if that parameter is available!\n",
    "- Use `make_scorer` to create an `fbeta_score` scoring object (with $\\beta = 0.5$).\n",
    "- Perform grid search on the classifier `clf` using the `'scorer'`, and store it in `grid_obj`.\n",
    "- Fit the grid search object to the training data (`X_train`, `y_train`), and store it in `grid_fit`.\n",
    "\n",
    "**Note:** Depending on the algorithm chosen and the parameter list, the following implementation may take some time to run!"
   ]
  },
  {
   "cell_type": "code",
   "execution_count": 16,
   "metadata": {
    "collapsed": false
   },
   "outputs": [
    {
     "name": "stdout",
     "output_type": "stream",
     "text": [
      "Unoptimized model\n",
      "------\n",
      "Accuracy score on testing data: 0.8389\n",
      "F-score on testing data: 0.6747\n",
      "\n",
      "Optimized Model\n",
      "------\n",
      "Best params: {'n_estimators': 110, 'max_depth': 15}\n",
      "Final accuracy score on the testing data: 0.8591\n",
      "Final F-score on the testing data: 0.7324\n"
     ]
    }
   ],
   "source": [
    "# TODO: Import 'GridSearchCV', 'make_scorer', and any other necessary libraries\n",
    "from sklearn.metrics import make_scorer\n",
    "from sklearn.grid_search import GridSearchCV \n",
    "\n",
    "# TODO: Initialize the classifier\n",
    "clf = RandomForestClassifier(random_state = 1)\n",
    "\n",
    "# TODO: Create the parameters list you wish to tune\n",
    "parameters = {'n_estimators': (50, 60, 70, 80, 90, 100, 110, 120, 140), 'max_depth':[12, 13, 14, 15, 16, 17, 18, 19]}\n",
    "\n",
    "# TODO: Make an fbeta_score scoring object\n",
    "scorer = make_scorer(fbeta_score, beta=0.5)\n",
    "\n",
    "# TODO: Perform grid search on the classifier using 'scorer' as the scoring method\n",
    "grid_obj = GridSearchCV(clf, param_grid = parameters, scoring = scorer, verbose = 0)\n",
    "    \n",
    "# TODO: Fit the grid search object to the training data and find the optimal parameters\n",
    "grid_fit = grid_obj.fit(X_train, y_train)\n",
    "\n",
    "# Get the estimator\n",
    "best_clf = grid_fit.best_estimator_\n",
    "\n",
    "# Make predictions using the unoptimized and model\n",
    "predictions = (clf.fit(X_train, y_train)).predict(X_test)\n",
    "best_predictions = best_clf.predict(X_test)\n",
    "\n",
    "# Report the before-and-afterscores\n",
    "print \"Unoptimized model\\n------\"\n",
    "print \"Accuracy score on testing data: {:.4f}\".format(accuracy_score(y_test, predictions))\n",
    "print \"F-score on testing data: {:.4f}\".format(fbeta_score(y_test, predictions, beta = 0.5))\n",
    "print \"\\nOptimized Model\\n------\"\n",
    "print(\"Best params: {}\").format(grid_fit.best_params_)\n",
    "print \"Final accuracy score on the testing data: {:.4f}\".format(accuracy_score(y_test, best_predictions))\n",
    "print \"Final F-score on the testing data: {:.4f}\".format(fbeta_score(y_test, best_predictions, beta = 0.5))"
   ]
  },
  {
   "cell_type": "markdown",
   "metadata": {},
   "source": [
    "### Question 5 - Final Model Evaluation\n",
    "_What is your optimized model's accuracy and F-score on the testing data? Are these scores better or worse than the unoptimized model? How do the results from your optimized model compare to the naive predictor benchmarks you found earlier in **Question 1**?_  \n",
    "**Note:** Fill in the table below with your results, and then provide discussion in the **Answer** box."
   ]
  },
  {
   "cell_type": "markdown",
   "metadata": {},
   "source": [
    "#### Results:\n",
    "\n",
    "|     Metric     | Benchmark Predictor | Unoptimized Model | Optimized Model |\n",
    "| :------------: | :-----------------: | :---------------: | :-------------: | \n",
    "| Accuracy Score | 0.2478              | 0.8389            |0.8591           |\n",
    "| F-score        | 0.2917              | 0.6747            |0.7324           |\n"
   ]
  },
  {
   "cell_type": "markdown",
   "metadata": {},
   "source": [
    "**Answer: ** <BR>\n",
    "So not unsurpricingly we observe a consistent improvement in both accuracy and f-score (precision, beta=.5) going from initial naive predictor to unoptimised Random Forest model to optimised Random Forest model.\n",
    "\n",
    "It is worth keeping in mind that if we had choosen a naive model that always predicted an individual made a most $50,000\n",
    "then accuracy would have been around 75% and F-score around 0.79 - the highest of them all!\n",
    "\n",
    "Also with our beta = 0.5 score we find that the optimation have a larger impact, meaning improves more, on precision rather than on the accuracy of the preditions - might be a fluke.\n",
    "\n",
    "Impressive to see how well the Random Forest model works straight out of the box."
   ]
  },
  {
   "cell_type": "markdown",
   "metadata": {},
   "source": [
    "----\n",
    "## Feature Importance\n",
    "\n",
    "An important task when performing supervised learning on a dataset like the census data we study here is determining which features provide the most predictive power. By focusing on the relationship between only a few crucial features and the target label we simplify our understanding of the phenomenon, which is most always a useful thing to do. In the case of this project, that means we wish to identify a small number of features that most strongly predict whether an individual makes at most or more than \\$50,000.\n",
    "\n",
    "Choose a scikit-learn classifier (e.g., adaboost, random forests) that has a `feature_importance_` attribute, which is a function that ranks the importance of features according to the chosen classifier.  In the next python cell fit this classifier to training set and use this attribute to determine the top 5 most important features for the census dataset."
   ]
  },
  {
   "cell_type": "markdown",
   "metadata": {},
   "source": [
    "### Question 6 - Feature Relevance Observation\n",
    "When **Exploring the Data**, it was shown there are thirteen available features for each individual on record in the census data.  \n",
    "_Of these thirteen records, which five features do you believe to be most important for prediction, and in what order would you rank them and why?_"
   ]
  },
  {
   "cell_type": "markdown",
   "metadata": {},
   "source": [
    "**Answer:** <BR>\n",
    "The five features I believe to be most important (ordered with top as most important)\n",
    "    - Occupation\n",
    "    - Workclass\n",
    "    - Education-num\n",
    "    - Capital-gain\n",
    "    - Age\n",
    "\n",
    "Obviously there are strong correlation between these features, ex. age if you are young the education level will be very basic and educational number will be low etc. Nevertheless I believe the occupation to be no. 1 as IT professionals will be much better paid that customer service emplyees. I have choosen work class as no. 2 as there will often be a big gab in salaries for similar roles in private versus public. Education num as no. 3 as it is expected that more education will on average increase salary. As no. 4 I have choosen capital gain as this is a valid metrics for people that appriciate and understands money and most likely the higher the income the bigger capial gain. Finally I have choosen age as no. 5 as the income you have available when you are very young or old will be very different from when you are in the age range of 30 - 60.\n"
   ]
  },
  {
   "cell_type": "markdown",
   "metadata": {},
   "source": [
    "### Implementation - Extracting Feature Importance\n",
    "Choose a `scikit-learn` supervised learning algorithm that has a `feature_importance_` attribute availble for it. This attribute is a function that ranks the importance of each feature when making predictions based on the chosen algorithm.\n",
    "\n",
    "In the code cell below, you will need to implement the following:\n",
    " - Import a supervised learning model from sklearn if it is different from the three used earlier.\n",
    " - Train the supervised model on the entire training set.\n",
    " - Extract the feature importances using `'.feature_importances_'`."
   ]
  },
  {
   "cell_type": "code",
   "execution_count": 21,
   "metadata": {
    "collapsed": false
   },
   "outputs": [
    {
     "data": {
      "image/png": "[encoded data removed]",
      "text/plain": [
       "<matplotlib.figure.Figure at 0xd590f28>"
      ]
     },
     "metadata": {},
     "output_type": "display_data"
    }
   ],
   "source": [
    "# TODO: Import a supervised learning model that has 'feature_importances_'\n",
    "\n",
    "# TODO: Train the supervised model on the training set \n",
    "model = best_clf\n",
    "\n",
    "# TODO: Extract the feature importances\n",
    "importances = model.feature_importances_ \n",
    "\n",
    "# Plot\n",
    "vs.feature_plot(importances, X_train, y_train)"
   ]
  },
  {
   "cell_type": "markdown",
   "metadata": {},
   "source": [
    "### Question 7 - Extracting Feature Importance\n",
    "\n",
    "Observe the visualization created above which displays the five most relevant features for predicting if an individual makes at most or above \\$50,000.  \n",
    "_How do these five features compare to the five features you discussed in **Question 6**? If you were close to the same answer, how does this visualization confirm your thoughts? If you were not close, why do you think these features are more relevant?_"
   ]
  },
  {
   "cell_type": "markdown",
   "metadata": {},
   "source": [
    "**Answer:** <BR>\n",
    "\n",
    "|     My top 5    | Extracted top 5     |\n",
    "| :------------:  | :-----------------: | \n",
    "| Occupation      | Marital-status      |\n",
    "| Workclass       | Capital-gain        |\n",
    "| Education-num   | Education-num       |\n",
    "| Capital-gain    | Age                 |\n",
    "| Age             | Relationship        |\n",
    "\n",
    "Splitting the question into those I got right and those that I didn't.\n",
    "\n",
    "Correct assumption (in asc. order of importance):\n",
    "\n",
    "|     My guess    | Extracted           |\n",
    "| :------------:  | :-----------------: | \n",
    "| ==========      | ==============      |\n",
    "| ==========      | Capital-gain        |\n",
    "| Education-num   | Education-num       |\n",
    "| Capital-gain    | Age                 |\n",
    "| Age             | ============        |\n",
    "\n",
    "So got the three above right however Capital-gain turned out to be the most important of these 3 features (almost the weight of Education-num and Age combined) and they were generally slightly more important than what I expected. \n",
    "\n",
    "Wrong assumption (in asc. order of importance):\n",
    "\n",
    "|     My guess    | Extracted           |\n",
    "| :------------:  | :-----------------: | \n",
    "| Occupation      | Marital-status      |\n",
    "| Workclass       | ============        |\n",
    "| ============    | ============        |\n",
    "| ============    | ============        |\n",
    "| ============    | Relationship        |\n",
    "\n",
    "That is a surprise to me. Regarding 'Occupation' I guess one possible explanation might be that there are such a big spread in income within each group that you can't classify anything based on these groups. Regarding 'Workclass' I quess the story will be the same as 'Occupation' that the majority won't make the cut (>50K) but yet the spread within the various groups are to high to make it a strong indicator. Regarding 'Marital-status' I believe it will often be the case that the individual is in his/her prime age for making money, may likely be in a stable relationship thereby potentially making it easier to focus on career, also there will be a need to make good money to cover the cost of 'running' a family. Regarding 'Relationship' if we think along the same lines as we did with 'Marital-status' and consider that men on average have higher income then it makes sense.\n"
   ]
  },
  {
   "cell_type": "markdown",
   "metadata": {},
   "source": [
    "### Feature Selection\n",
    "How does a model perform if we only use a subset of all the available features in the data? With less features required to train, the expectation is that training and prediction time is much lower — at the cost of performance metrics. From the visualization above, we see that the top five most important features contribute more than half of the importance of **all** features present in the data. This hints that we can attempt to *reduce the feature space* and simplify the information required for the model to learn. The code cell below will use the same optimized model you found earlier, and train it on the same training set *with only the top five important features*. "
   ]
  },
  {
   "cell_type": "code",
   "execution_count": 20,
   "metadata": {
    "collapsed": false
   },
   "outputs": [
    {
     "name": "stdout",
     "output_type": "stream",
     "text": [
      "Final Model trained on full data\n",
      "------\n",
      "Accuracy on testing data: 0.8591\n",
      "F-score on testing data: 0.7324\n",
      "\n",
      "Final Model trained on reduced data (top 10 features)\n",
      "------\n",
      "Accuracy on testing data: 0.8580\n",
      "F-score on testing data: 0.7273\n",
      "\n",
      "Final Model trained on reduced data (top 5 features)\n",
      "------\n",
      "Accuracy on testing data: 0.8432\n",
      "F-score on testing data: 0.6874\n",
      "\n",
      "Comparing time savings using reduces feature set\n",
      "------\n",
      "Training time - full, in seconds: 4.5910\n",
      "Training time - top 10 features, in seconds: 2.5850\n",
      "Training time - top 5 features, in seconds: 2.1250\n",
      "Prediction time - full, in seconds: 0.1980\n",
      "Prediction time - top 10 features, in seconds: 0.1830\n",
      "Prediction time - top 5 features, in seconds: 0.1810\n"
     ]
    }
   ],
   "source": [
    "# Import functionality for cloning a model\n",
    "from sklearn.base import clone\n",
    "\n",
    "# Reduce the feature space\n",
    "X_train_reduced_5 = X_train[X_train.columns.values[(np.argsort(importances)[::-1])[:5]]]\n",
    "X_test_reduced_5 = X_test[X_test.columns.values[(np.argsort(importances)[::-1])[:5]]]\n",
    "X_train_reduced_10 = X_train[X_train.columns.values[(np.argsort(importances)[::-1])[:10]]]\n",
    "X_test_reduced_10 = X_test[X_test.columns.values[(np.argsort(importances)[::-1])[:10]]]\n",
    "\n",
    "results = {}\n",
    "# Train on the \"best\" model found from grid search earlier on top 5 features\n",
    "clf = clone(best_clf)\n",
    "start = time() # Get start time\n",
    "clf = clf.fit(X_train_reduced_5, y_train)\n",
    "end = time() # Get end time    \n",
    "results['train_time_reduced_5'] = end - start\n",
    "\n",
    "# Make new predictions on top 5 features only\n",
    "start = time() # Get start time\n",
    "reduced_predictions_5 = clf.predict(X_test_reduced_5)\n",
    "end = time() # Get end time\n",
    "results['pred_time_reduced_5'] = end - start\n",
    "\n",
    "# Train on the \"best\" model found from grid search earlier on top 10 features\n",
    "clf = clone(best_clf)\n",
    "start = time() # Get start time\n",
    "clf = clf.fit(X_train_reduced_10, y_train)\n",
    "end = time() # Get end time    \n",
    "results['train_time_reduced_10'] = end - start\n",
    "\n",
    "# Make new predictions on top 10 features only\n",
    "start = time() # Get start time\n",
    "reduced_predictions_10 = clf.predict(X_test_reduced_10)\n",
    "end = time() # Get end time\n",
    "results['pred_time_reduced_10'] = end - start\n",
    "\n",
    "\n",
    "# Obtain time for optimal mmodel using all features\n",
    "# Training time\n",
    "start = time() # Get start time\n",
    "best_clf = best_clf.fit(X_train, y_train)\n",
    "end = time() # Get end time    \n",
    "results['train_time_full'] = end - start\n",
    "\n",
    "# Prediction time\n",
    "start = time() # Get start time\n",
    "full_predictions = best_clf.predict(X_test)\n",
    "end = time() # Get end time\n",
    "results['pred_time_full'] = end - start\n",
    "\n",
    "\n",
    "# Report scores from the final model using both versions of data\n",
    "print \"Final Model trained on full data\\n------\"\n",
    "print \"Accuracy on testing data: {:.4f}\".format(accuracy_score(y_test, best_predictions))\n",
    "print \"F-score on testing data: {:.4f}\".format(fbeta_score(y_test, best_predictions, beta = 0.5))\n",
    "print \"\\nFinal Model trained on reduced data (top 10 features)\\n------\"\n",
    "print \"Accuracy on testing data: {:.4f}\".format(accuracy_score(y_test, reduced_predictions_10))\n",
    "print \"F-score on testing data: {:.4f}\".format(fbeta_score(y_test, reduced_predictions_10, beta = 0.5))\n",
    "print \"\\nFinal Model trained on reduced data (top 5 features)\\n------\"\n",
    "print \"Accuracy on testing data: {:.4f}\".format(accuracy_score(y_test, reduced_predictions_5))\n",
    "print \"F-score on testing data: {:.4f}\".format(fbeta_score(y_test, reduced_predictions_5, beta = 0.5))\n",
    "print \"\\nComparing time savings using reduces feature set\\n------\"\n",
    "print \"Training time - full, in seconds: {:.4f}\".format(results['train_time_full'])\n",
    "print \"Training time - top 10 features, in seconds: {:.4f}\".format(results['train_time_reduced_10'])\n",
    "print \"Training time - top 5 features, in seconds: {:.4f}\".format(results['train_time_reduced_5'])\n",
    "print \"Prediction time - full, in seconds: {:.4f}\".format(results['pred_time_full'])\n",
    "print \"Prediction time - top 10 features, in seconds: {:.4f}\".format(results['pred_time_reduced_10'])\n",
    "print \"Prediction time - top 5 features, in seconds: {:.4f}\".format(results['pred_time_reduced_5'])\n"
   ]
  },
  {
   "cell_type": "markdown",
   "metadata": {},
   "source": [
    "### Question 8 - Effects of Feature Selection\n",
    "*How does the final model's F-score and accuracy score on the reduced data using only five features compare to those same scores when all features are used?*  \n",
    "*If training time was a factor, would you consider using the reduced data as your training set?*"
   ]
  },
  {
   "cell_type": "markdown",
   "metadata": {},
   "source": [
    "**Answer:** <BR>\n",
    "When only using the top five features we obtain the accuracy and F-score of the unoptimized model (see table below). Is that good enough? Well, for a PoC that is fine, for comparing a few algorithms that can work too however for reporting and making conclusions I would argue you need a few more features such as the top 10 features. Looking at the results for top 10 we are very close to the final optimized full dataset model and still with a factor 2 reduction in training time. So if training time is a factor it is certainly worth experimenting with the top X features versus training time. Predition time is almost constant and independent of no. of features so no gain in that area, for this algorithm.\n",
    "\n",
    "|     Metric     | Unoptimized Model | Top 5 features  |  Top 10 features  | Optimized Model |\n",
    "| :------------: | :---------------: | :-------------: | :---------------: | :-------------: |  \n",
    "| Accuracy Score | 0.8389            | 0.8432          | 0.8580            | 0.8591          |\n",
    "| F-score        | 0.6747            | 0.6874          | 0.7273            | 0.7324          |\n",
    "| Training time  | -                 | 2.1250          | 2.5850            | 4.5910          |\n",
    "| Pred. time     | -                 | 0.1810          | 0.1830            | 0.1980          |\n"
   ]
  },
  {
   "cell_type": "markdown",
   "metadata": {},
   "source": [
    "> **Note**: Once you have completed all of the code implementations and successfully answered each question above, you may finalize your work by exporting the iPython Notebook as an HTML document. You can do this by using the menu above and navigating to  \n",
    "**File -> Download as -> HTML (.html)**. Include the finished document along with this notebook as your submission."
   ]
  }
 ],
 "metadata": {
  "kernelspec": {
   "display_name": "Python 2",
   "language": "python",
   "name": "python2"
  },
  "language_info": {
   "codemirror_mode": {
    "name": "ipython",
    "version": 2
   },
   "file_extension": ".py",
   "mimetype": "text/x-python",
   "name": "python",
   "nbconvert_exporter": "python",
   "pygments_lexer": "ipython2",
   "version": "2.7.13"
  }
 },
 "nbformat": 4,
 "nbformat_minor": 0
}
